{
 "cells": [
  {
   "cell_type": "markdown",
   "id": "824e13fd",
   "metadata": {},
   "source": [
    "# nuPlan Scenario Visualization\n",
    "\n",
    "Welcome to the nuPlan scenario visualization tutorial.\n",
    "\n",
    "In this notebook, you can visualize driving scenarios present in the nuPlan dataset, such as interactions with pedestrians, stopping/accelerating at red traffic lights, unprotected turns and more. These tagged scenarios can be used during the training, simulation and evaluation of a planner."
   ]
  },
  {
   "cell_type": "code",
   "execution_count": null,
   "id": "dcd94c0b",
   "metadata": {},
   "outputs": [],
   "source": [
    "from bokeh.io import output_notebook\n",
    "\n",
    "from tutorials.utils.tutorial_utils import visualize_nuplan_scenarios, setup_notebook\n",
    "\n",
    "setup_notebook()\n",
    "output_notebook()"
   ]
  },
  {
   "cell_type": "markdown",
   "id": "d4504e34",
   "metadata": {},
   "source": [
    "Load a collection of nuPlan log databases"
   ]
  },
  {
   "cell_type": "code",
   "execution_count": null,
   "id": "1b9f4474",
   "metadata": {
    "vscode": {
     "languageId": "markdown"
    }
   },
   "outputs": [],
   "source": [
    "import os\n",
    "NUPLAN_DATA_ROOT = os.getenv('NUPLAN_DATA_ROOT', '/data/sets/nuplan')\n",
    "NUPLAN_MAPS_ROOT = os.getenv('NUPLAN_MAPS_ROOT', '/data/sets/nuplan/maps')\n",
    "NUPLAN_DB_FILES = os.getenv('NUPLAN_DB_FILES', '/data/sets/nuplan/nuplan-v1.1/splits/mini')\n",
    "NUPLAN_MAP_VERSION = os.getenv('NUPLAN_MAP_VERSION', 'nuplan-maps-v1.0')"
   ]
  },
  {
   "cell_type": "markdown",
   "id": "06407e8b",
   "metadata": {},
   "source": [
    "Select a scenario type and render a random scenario from the dataset"
   ]
  },
  {
   "cell_type": "code",
   "execution_count": null,
   "id": "db3505d5",
   "metadata": {},
   "outputs": [],
   "source": [
    "visualize_nuplan_scenarios(\n",
    "    data_root=NUPLAN_DATA_ROOT,\n",
    "    db_files=NUPLAN_DB_FILES,\n",
    "    map_root=NUPLAN_MAPS_ROOT,\n",
    "    map_version=NUPLAN_MAP_VERSION,\n",
    "    bokeh_port=8899  # This controls the port bokeh uses when generating the visualization -- if you are running\n",
    "                     # the notebook on a remote instance, you'll need to make sure to port-forward it.\n",
    ")"
   ]
  },
  {
   "cell_type": "code",
   "execution_count": null,
   "id": "20df20e8",
   "metadata": {},
   "outputs": [],
   "source": []
  },
  {
   "cell_type": "code",
   "execution_count": null,
   "id": "89824e91-e0bb-46d0-a412-4e02fb435621",
   "metadata": {},
   "outputs": [],
   "source": []
  },
  {
   "cell_type": "code",
   "execution_count": null,
   "id": "1587ea36-2f6f-4ca4-83ef-7e473a1deb70",
   "metadata": {},
   "outputs": [],
   "source": []
  }
 ],
 "metadata": {
  "kernelspec": {
   "display_name": "Python 3 (ipykernel)",
   "language": "python",
   "name": "python3"
  },
  "language_info": {
   "codemirror_mode": {
    "name": "ipython",
    "version": 3
   },
   "file_extension": ".py",
   "mimetype": "text/x-python",
   "name": "python",
   "nbconvert_exporter": "python",
   "pygments_lexer": "ipython3",
   "version": "3.9.19"
  }
 },
 "nbformat": 4,
 "nbformat_minor": 5
}
